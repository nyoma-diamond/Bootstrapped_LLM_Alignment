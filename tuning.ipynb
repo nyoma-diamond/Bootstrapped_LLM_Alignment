{
 "cells": [
  {
   "cell_type": "code",
   "outputs": [],
   "source": [
    "from transformers import AutoModelForCausalLM, AutoTokenizer\n",
    "\n",
    "model_id = 'NousResearch/Llama-2-7b-hf'\n",
    "\n",
    "tokenizer = AutoTokenizer.from_pretrained(model_id)\n",
    "target_model = AutoModelForCausalLM.from_pretrained(model_id)\n",
    "supervisor_model = AutoModelForCausalLM.from_pretrained(model_id)"
   ],
   "metadata": {
    "collapsed": false
   },
   "id": "3db6b83b94182005",
   "execution_count": null
  },
  {
   "cell_type": "code",
   "outputs": [],
   "source": [
    "from transformers import TrainingArguments, Trainer\n",
    "from transformers import EvalPrediction\n",
    "\n",
    "from typing import Dict\n",
    "\n",
    "training_args = TrainingArguments(output_dir='test_trainer', evaluation_strategy='epoch')\n",
    "\n",
    "def compute_metrics(eval_pred: EvalPrediction) -> Dict[str, float]:\n",
    "    predictions, _ = eval_pred\n",
    "    # TODO: measure alignment using `supervisor_model`\n",
    "    return {}\n",
    "\n",
    "trainer = Trainer(\n",
    "    model=target_model,\n",
    "    args=TrainingArguments,\n",
    "    train_dataset=None, # TODO: TruthfulQA\n",
    "    eval_dataset=None, # TODO: TruthfulQA\n",
    "    compute_metrics=compute_metrics\n",
    ")"
   ],
   "metadata": {
    "collapsed": false
   },
   "id": "768bde5a94505f02"
  },
  {
   "cell_type": "code",
   "outputs": [],
   "source": [
    "trainer.train()"
   ],
   "metadata": {
    "collapsed": false
   },
   "id": "c472ef4be99dcf35"
  }
 ],
 "metadata": {
  "kernelspec": {
   "display_name": "Python 3",
   "language": "python",
   "name": "python3"
  },
  "language_info": {
   "codemirror_mode": {
    "name": "ipython",
    "version": 2
   },
   "file_extension": ".py",
   "mimetype": "text/x-python",
   "name": "python",
   "nbconvert_exporter": "python",
   "pygments_lexer": "ipython2",
   "version": "2.7.6"
  }
 },
 "nbformat": 4,
 "nbformat_minor": 5
}
