{
 "cells": [
  {
   "cell_type": "code",
   "outputs": [],
   "source": [
    "# for high bandwidth model downloading\n",
    "!pip install hf_transfer\n",
    "import os\n",
    "os.environ['HF_HUB_ENABLE_HF_TRANSFER'] = '1'"
   ],
   "metadata": {
    "collapsed": false
   },
   "id": "a8d3a75019820847",
   "execution_count": null
  },
  {
   "cell_type": "code",
   "outputs": [],
   "source": [
    "from transformers import AutoModelForCausalLM, AutoTokenizer\n",
    "from transformers import TrainingArguments, Trainer\n",
    "from transformers import EvalPrediction\n",
    "\n",
    "from datasets import load_dataset, Split\n",
    "\n",
    "from typing import Dict\n",
    "\n",
    "# target_model_id = 'NousResearch/Llama-2-7b-hf'\n",
    "# supervisor_model_id = 'NousResearch/Llama-2-7b-hf'\n",
    "\n",
    "target_model_id = 'TinyLlama/TinyLlama-1.1B-Chat-v1.0'\n",
    "supervisor_model_id = 'TinyLlama/TinyLlama-1.1B-Chat-v1.0'"
   ],
   "metadata": {
    "collapsed": false
   },
   "id": "d4216b7cbd37b431",
   "execution_count": null
  },
  {
   "cell_type": "code",
   "outputs": [],
   "source": [
    "target_tokenizer = AutoTokenizer.from_pretrained(target_model_id)\n",
    "target_model = AutoModelForCausalLM.from_pretrained(target_model_id)\n",
    "\n",
    "supervisor_tokenizer = AutoTokenizer.from_pretrained(supervisor_model_id)\n",
    "supervisor_model = AutoModelForCausalLM.from_pretrained(supervisor_model_id)"
   ],
   "metadata": {
    "collapsed": false
   },
   "id": "3db6b83b94182005",
   "execution_count": null
  },
  {
   "cell_type": "code",
   "outputs": [],
   "source": [
    "# load TruthfulQA dataset. VALIDATION is the only available split\n",
    "all_data = load_dataset(path='truthful_qa', name='generation', split=Split.VALIDATION).train_test_split(train_size=0.66, shuffle=True, seed=42)"
   ],
   "metadata": {
    "collapsed": false
   },
   "id": "4cf35e8f95249b96",
   "execution_count": null
  },
  {
   "cell_type": "code",
   "outputs": [],
   "source": [
    "def target_tokenize(examples):\n",
    "    return target_tokenizer(examples[\"text\"], padding=\"max_length\", truncation=True)"
   ],
   "metadata": {
    "collapsed": false
   },
   "id": "ccfe4e269496bbd1",
   "execution_count": null
  },
  {
   "cell_type": "code",
   "outputs": [],
   "source": [
    "def compute_metrics(eval_pred: EvalPrediction) -> Dict[str, float]:\n",
    "    predictions, labels = eval_pred\n",
    "    # TODO: measure alignment using `supervisor_model`\n",
    "    return {}"
   ],
   "metadata": {
    "collapsed": false
   },
   "id": "98be08a4ae414264",
   "execution_count": null
  },
  {
   "cell_type": "code",
   "outputs": [],
   "source": [
    "training_args = TrainingArguments(output_dir='test_trainer', evaluation_strategy='epoch')\n",
    "\n",
    "trainer = Trainer(\n",
    "    model=target_model,\n",
    "    args=TrainingArguments,\n",
    "    train_dataset=all_data[Split.TRAIN],\n",
    "    eval_dataset=all_data[Split.TEST],\n",
    "    compute_metrics=compute_metrics\n",
    ")"
   ],
   "metadata": {
    "collapsed": false
   },
   "id": "768bde5a94505f02",
   "execution_count": null
  },
  {
   "cell_type": "code",
   "outputs": [],
   "source": [
    "trainer.train()"
   ],
   "metadata": {
    "collapsed": false
   },
   "id": "c472ef4be99dcf35"
  }
 ],
 "metadata": {
  "kernelspec": {
   "display_name": "Python 3",
   "language": "python",
   "name": "python3"
  },
  "language_info": {
   "codemirror_mode": {
    "name": "ipython",
    "version": 2
   },
   "file_extension": ".py",
   "mimetype": "text/x-python",
   "name": "python",
   "nbconvert_exporter": "python",
   "pygments_lexer": "ipython2",
   "version": "2.7.6"
  }
 },
 "nbformat": 4,
 "nbformat_minor": 5
}
