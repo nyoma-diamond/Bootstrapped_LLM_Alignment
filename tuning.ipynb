{
 "cells": [
  {
   "cell_type": "code",
   "outputs": [],
   "source": [
    "# for high bandwidth model downloading\n",
    "!pip install hf_transfer\n",
    "import os\n",
    "os.environ['HF_HUB_ENABLE_HF_TRANSFER'] = '1'"
   ],
   "metadata": {
    "collapsed": false
   },
   "id": "a8d3a75019820847",
   "execution_count": null
  },
  {
   "cell_type": "code",
   "outputs": [],
   "source": [
    "from transformers import AutoModelForCausalLM, AutoTokenizer\n",
    "from transformers import EvalPrediction\n",
    "\n",
    "from datasets import load_dataset, Split\n",
    "\n",
    "from trl import SFTTrainer\n",
    "\n",
    "from typing import Dict\n",
    "\n",
    "# target_model_id = 'NousResearch/Llama-2-7b-hf'\n",
    "# supervisor_model_id = 'NousResearch/Llama-2-7b-hf'\n",
    "\n",
    "target_model_id = 'TinyLlama/TinyLlama-1.1B-Chat-v1.0'\n",
    "supervisor_model_id = 'TinyLlama/TinyLlama-1.1B-Chat-v1.0'"
   ],
   "metadata": {
    "collapsed": false
   },
   "id": "d4216b7cbd37b431",
   "execution_count": null
  },
  {
   "cell_type": "code",
   "outputs": [],
   "source": [
    "# Download and load models\n",
    "target_tokenizer = AutoTokenizer.from_pretrained(target_model_id)\n",
    "target_model = AutoModelForCausalLM.from_pretrained(target_model_id)\n",
    "\n",
    "supervisor_tokenizer = AutoTokenizer.from_pretrained(supervisor_model_id)\n",
    "supervisor_model = AutoModelForCausalLM.from_pretrained(supervisor_model_id)"
   ],
   "metadata": {
    "collapsed": false
   },
   "id": "3db6b83b94182005",
   "execution_count": null
  },
  {
   "cell_type": "code",
   "outputs": [],
   "source": [
    "# Load TruthfulQA dataset. VALIDATION is the only available split\n",
    "all_data = load_dataset(path='truthful_qa', name='generation', split=Split.VALIDATION).train_test_split(train_size=0.66, shuffle=True, seed=42)"
   ],
   "metadata": {
    "collapsed": false
   },
   "id": "4cf35e8f95249b96",
   "execution_count": null
  },
  {
   "cell_type": "code",
   "outputs": [],
   "source": [
    "def compute_metrics(eval_pred: EvalPrediction) -> Dict[str, float]:\n",
    "    print('COMPUTING METRICS')\n",
    "    predictions, labels = eval_pred\n",
    "    # TODO: measure alignment using `supervisor_model`\n",
    "    return {}"
   ],
   "metadata": {
    "collapsed": false
   },
   "id": "98be08a4ae414264",
   "execution_count": null
  },
  {
   "cell_type": "code",
   "outputs": [],
   "source": [
    "trainer = SFTTrainer(\n",
    "    model=target_model,\n",
    "    train_dataset=all_data[Split.TRAIN],\n",
    "    eval_dataset=all_data[Split.TEST],\n",
    "    compute_metrics=compute_metrics,\n",
    "    max_seq_length=1024,\n",
    "    dataset_text_field='question',\n",
    "    dataset_batch_size=32\n",
    ")"
   ],
   "metadata": {
    "collapsed": false
   },
   "id": "b30ccb7177b471f9",
   "execution_count": null
  },
  {
   "cell_type": "code",
   "outputs": [],
   "source": [
    "trainer.train()"
   ],
   "metadata": {
    "collapsed": false,
    "is_executing": true
   },
   "id": "47ca2af0af5c6722",
   "execution_count": null
  }
 ],
 "metadata": {
  "kernelspec": {
   "display_name": "Python 3",
   "language": "python",
   "name": "python3"
  },
  "language_info": {
   "codemirror_mode": {
    "name": "ipython",
    "version": 2
   },
   "file_extension": ".py",
   "mimetype": "text/x-python",
   "name": "python",
   "nbconvert_exporter": "python",
   "pygments_lexer": "ipython2",
   "version": "2.7.6"
  }
 },
 "nbformat": 4,
 "nbformat_minor": 5
}
