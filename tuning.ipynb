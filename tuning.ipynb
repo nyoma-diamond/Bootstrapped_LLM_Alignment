{
 "cells": [
  {
   "cell_type": "code",
   "outputs": [],
   "source": [
    "from transformers import AutoModelForCausalLM, AutoTokenizer\n",
    "from transformers import TrainingArguments, Trainer\n",
    "from transformers import EvalPrediction\n",
    "\n",
    "import torch\n",
    "from torch.utils.data import Dataset, DataLoader\n",
    "\n",
    "import pandas as pd\n",
    "from sklearn.model_selection import train_test_split\n",
    "\n",
    "from typing import Dict\n",
    "\n",
    "target_model_id = 'NousResearch/Llama-2-7b-hf'\n",
    "supervisor_model_id = 'NousResearch/Llama-2-7b-hf'"
   ],
   "metadata": {
    "collapsed": false,
    "ExecuteTime": {
     "end_time": "2024-03-01T12:39:38.621651900Z",
     "start_time": "2024-03-01T12:39:38.613647600Z"
    }
   },
   "id": "d4216b7cbd37b431",
   "execution_count": 14
  },
  {
   "cell_type": "code",
   "outputs": [],
   "source": [
    "target_tokenizer = AutoTokenizer.from_pretrained(target_model_id)\n",
    "target_model = AutoModelForCausalLM.from_pretrained(target_model_id)\n",
    "\n",
    "supervisor_tokenizer = AutoTokenizer.from_pretrained(supervisor_model_id)\n",
    "supervisor_model = AutoModelForCausalLM.from_pretrained(supervisor_model_id)"
   ],
   "metadata": {
    "collapsed": false
   },
   "id": "3db6b83b94182005",
   "execution_count": null
  },
  {
   "cell_type": "code",
   "outputs": [],
   "source": [
    "class TruthfulQA(Dataset):\n",
    "    def __init__(self, df: pd.DataFrame):\n",
    "        self.question = df['Question']\n",
    "        self.best_answer = df['Best Answer']\n",
    "        self.correct_answers = df['Correct Answers']\n",
    "        self.incorrect_answers = df['Incorrect Answers']\n",
    "\n",
    "    def __len__(self):\n",
    "        return len(self.question)\n",
    "\n",
    "    def __getitem__(self, idx):\n",
    "        question = self.question.iloc[idx]\n",
    "        best_answer = self.best_answer.iloc[idx]\n",
    "        correct_answers = self.correct_answers.iloc[idx]\n",
    "        incorrect_answers = self.incorrect_answers.iloc[idx]\n",
    "        return question, best_answer, correct_answers, incorrect_answers"
   ],
   "metadata": {
    "collapsed": false,
    "ExecuteTime": {
     "end_time": "2024-03-01T12:40:11.574463700Z",
     "start_time": "2024-03-01T12:40:11.554962200Z"
    }
   },
   "id": "c42f2a4a6c832222",
   "execution_count": 19
  },
  {
   "cell_type": "code",
   "outputs": [],
   "source": [
    "tqa_train, tqa_test = train_test_split(pd.read_csv('data/TruthfulQA.csv'), test_size=0.33, random_state=42)\n",
    "\n",
    "train_dataset = TruthfulQA(tqa_train)\n",
    "test_dataset = TruthfulQA(tqa_test)"
   ],
   "metadata": {
    "collapsed": false,
    "ExecuteTime": {
     "end_time": "2024-03-01T12:40:11.950961600Z",
     "start_time": "2024-03-01T12:40:11.922961300Z"
    }
   },
   "id": "2a54f5bd5c83ca9f",
   "execution_count": 20
  },
  {
   "cell_type": "code",
   "outputs": [],
   "source": [
    "training_args = TrainingArguments(output_dir='test_trainer', evaluation_strategy='epoch')\n",
    "\n",
    "def compute_metrics(eval_pred: EvalPrediction) -> Dict[str, float]:\n",
    "    predictions, labels = eval_pred\n",
    "    # TODO: measure alignment using `supervisor_model`\n",
    "    return {}\n",
    "\n",
    "trainer = Trainer(\n",
    "    model=target_model,\n",
    "    args=TrainingArguments,\n",
    "    train_dataset=None, # TODO: TruthfulQA\n",
    "    eval_dataset=None, # TODO: TruthfulQA\n",
    "    compute_metrics=compute_metrics\n",
    ")"
   ],
   "metadata": {
    "collapsed": false
   },
   "id": "768bde5a94505f02"
  },
  {
   "cell_type": "code",
   "outputs": [],
   "source": [
    "trainer.train()"
   ],
   "metadata": {
    "collapsed": false
   },
   "id": "c472ef4be99dcf35"
  }
 ],
 "metadata": {
  "kernelspec": {
   "display_name": "Python 3",
   "language": "python",
   "name": "python3"
  },
  "language_info": {
   "codemirror_mode": {
    "name": "ipython",
    "version": 2
   },
   "file_extension": ".py",
   "mimetype": "text/x-python",
   "name": "python",
   "nbconvert_exporter": "python",
   "pygments_lexer": "ipython2",
   "version": "2.7.6"
  }
 },
 "nbformat": 4,
 "nbformat_minor": 5
}
