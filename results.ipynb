{
 "cells": [
  {
   "cell_type": "code",
   "execution_count": null,
   "id": "initial_id",
   "metadata": {
    "collapsed": true
   },
   "outputs": [],
   "source": [
    "import pandas as pd\n",
    "import matplotlib.pyplot as plt\n",
    "import seaborn as sns\n",
    "import numpy as np"
   ]
  },
  {
   "cell_type": "code",
   "outputs": [],
   "source": [
    "base_data = pd.DataFrame(pd.read_pickle('./out/models/phi-1_5-base/test_results.pkl'))\n",
    "tuned_data = pd.DataFrame(pd.read_pickle('./out/models/phi-1_5-tuned/test_results.pkl'))\n",
    "mistral_tuned_data = pd.DataFrame(pd.read_pickle('./out/models/phi-1_5-mistral-7b-tuned/test_results.pkl'))"
   ],
   "metadata": {
    "collapsed": false
   },
   "id": "d5ec9fd161936b02",
   "execution_count": null
  },
  {
   "cell_type": "code",
   "outputs": [],
   "source": [
    "data_dict = {\n",
    "    'base': base_data,\n",
    "    'self-tuned': tuned_data,\n",
    "    'mistral-tuned': mistral_tuned_data\n",
    "}"
   ],
   "metadata": {
    "collapsed": false
   },
   "id": "40285068980d39b9",
   "execution_count": null
  },
  {
   "cell_type": "code",
   "outputs": [],
   "source": [
    "pd.DataFrame({model: data.mean() for model, data in data_dict.items()}).plot(kind='bar')\n",
    "plt.show()"
   ],
   "metadata": {
    "collapsed": false
   },
   "id": "943df96c66b3b328",
   "execution_count": null
  },
  {
   "cell_type": "code",
   "outputs": [],
   "source": [
    "melt_data = pd.concat([data.melt().assign(**{'model': model}) for model, data in data_dict.items()])"
   ],
   "metadata": {
    "collapsed": false
   },
   "id": "c765e86e5ef981fe",
   "execution_count": null
  },
  {
   "cell_type": "code",
   "outputs": [],
   "source": [
    "g = sns.FacetGrid(melt_data, col='variable', col_wrap=3, hue='model', sharex=False)\n",
    "g.map(sns.kdeplot, 'value', clip=(1,10))\n",
    "g.add_legend()\n",
    "\n",
    "for ax in g.axes.flat:\n",
    "    ax.set_xticks(np.arange(1,11), minor=False)\n",
    "\n",
    "plt.show()"
   ],
   "metadata": {
    "collapsed": false
   },
   "id": "59e01ab474fb965b",
   "execution_count": null
  },
  {
   "cell_type": "code",
   "outputs": [],
   "source": [
    "g = sns.FacetGrid(melt_data, col='variable', col_wrap=3, hue='model', sharex=False)\n",
    "g.map(sns.kdeplot, 'value', clip=(1,10))\n",
    "g.add_legend()\n",
    "g.set(yscale='log')\n",
    "\n",
    "for ax in g.axes.flat:\n",
    "    ax.set_xticks(np.arange(1,11), minor=False)\n",
    "\n",
    "plt.show()"
   ],
   "metadata": {
    "collapsed": false
   },
   "id": "2160d384f6be8135",
   "execution_count": null
  },
  {
   "cell_type": "code",
   "outputs": [],
   "source": [
    "g = sns.FacetGrid(melt_data, col='variable', col_wrap=3, hue='model', sharex=False)\n",
    "g.map(sns.histplot, 'value', element='step', discrete=True, alpha=0.1, stat='density', binrange=(1,10))\n",
    "g.add_legend()\n",
    "\n",
    "for ax in g.axes.flat:\n",
    "    ax.set_xticks(np.arange(1,11), minor=False)\n",
    "    ax.set_xticks(np.arange(0.5,11), minor=True)\n",
    "    ax.grid(which='major', axis='x', visible=False)\n",
    "    ax.grid(which='minor', axis='x', visible=True)\n",
    "\n",
    "plt.show()"
   ],
   "metadata": {
    "collapsed": false
   },
   "id": "f8fa32aed5996ddd",
   "execution_count": null
  },
  {
   "cell_type": "code",
   "outputs": [],
   "source": [
    "g = sns.FacetGrid(melt_data, col='variable', col_wrap=3, hue='model', sharex=False)\n",
    "g.map(sns.histplot, 'value', element='step', discrete=True, alpha=0.1, stat='density', binrange=(1,10))\n",
    "g.add_legend()\n",
    "g.set(yscale='log')\n",
    "\n",
    "for ax in g.axes.flat:\n",
    "    ax.set_xticks(np.arange(1,11), minor=False)\n",
    "    ax.set_xticks(np.arange(0.5,11), minor=True)\n",
    "    ax.grid(which='major', axis='x', visible=False)\n",
    "    ax.grid(which='minor', axis='x', visible=True)\n",
    "    \n",
    "    \n",
    "plt.show()"
   ],
   "metadata": {
    "collapsed": false
   },
   "id": "e542301bf62b0bc6",
   "execution_count": null
  }
 ],
 "metadata": {
  "kernelspec": {
   "display_name": "Python 3",
   "language": "python",
   "name": "python3"
  },
  "language_info": {
   "codemirror_mode": {
    "name": "ipython",
    "version": 2
   },
   "file_extension": ".py",
   "mimetype": "text/x-python",
   "name": "python",
   "nbconvert_exporter": "python",
   "pygments_lexer": "ipython2",
   "version": "2.7.6"
  }
 },
 "nbformat": 4,
 "nbformat_minor": 5
}
